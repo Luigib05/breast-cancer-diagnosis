{
 "cells": [
  {
   "cell_type": "markdown",
   "id": "4ace44a0",
   "metadata": {},
   "source": [
    "Importation of bookstores"
   ]
  },
  {
   "cell_type": "code",
   "execution_count": null,
   "id": "189d10e0",
   "metadata": {},
   "outputs": [],
   "source": [
    "# Data handling\n",
    "import pandas as pd\n",
    "import numpy as np\n",
    "\n",
    "# Visualization\n",
    "import matplotlib.pyplot as plt\n",
    "import seaborn as sns\n",
    "\n",
    "# Display settings\n",
    "sns.set_theme(style=\"whitegrid\")\n",
    "plt.rcParams[\"figure.figsize\"] = (10, 6)\n"
   ]
  },
  {
   "cell_type": "code",
   "execution_count": null,
   "id": "fd43580a",
   "metadata": {},
   "outputs": [],
   "source": [
    "# Setup: Add project root to Python path to allow imports from src/\n",
    "import sys\n",
    "import os\n",
    "\n",
    "# Add the parent directory of the current working directory to sys.path\n",
    "project_root = os.path.abspath(os.path.join(os.getcwd(), '..'))\n",
    "if project_root not in sys.path:\n",
    "    sys.path.append(project_root)\n",
    "\n",
    "# Import custom modules\n",
    "from src.load_data import load_breast_cancer_data\n"
   ]
  },
  {
   "cell_type": "markdown",
   "id": "7b5889c6",
   "metadata": {},
   "source": [
    "Loading the dataset"
   ]
  },
  {
   "cell_type": "code",
   "execution_count": null,
   "id": "b52a07c9",
   "metadata": {},
   "outputs": [],
   "source": [
    "# Load data\n",
    "df = load_breast_cancer_data()\n",
    "\n",
    "# Preview\n",
    "df.head()\n"
   ]
  },
  {
   "cell_type": "markdown",
   "id": "6001c03e",
   "metadata": {},
   "source": [
    "Dimensions and data types"
   ]
  },
  {
   "cell_type": "code",
   "execution_count": null,
   "id": "629b351f",
   "metadata": {},
   "outputs": [],
   "source": [
    "# Shape\n",
    "print(f\"Dataset shape: {df.shape}\")\n",
    "\n",
    "# Data types and non-null values\n",
    "df.info()\n"
   ]
  },
  {
   "cell_type": "markdown",
   "id": "e01621e1",
   "metadata": {},
   "source": [
    "Descriptive statistics"
   ]
  },
  {
   "cell_type": "code",
   "execution_count": null,
   "id": "0972ae56",
   "metadata": {},
   "outputs": [],
   "source": [
    "# Descriptive statistics for numeric columns\n",
    "df.describe()\n"
   ]
  },
  {
   "cell_type": "markdown",
   "id": "78855ffb",
   "metadata": {},
   "source": [
    "Check for missing values"
   ]
  },
  {
   "cell_type": "code",
   "execution_count": null,
   "id": "a1ff9e48",
   "metadata": {},
   "outputs": [],
   "source": [
    "# Check for missing values\n",
    "df.isnull().sum()\n"
   ]
  },
  {
   "cell_type": "code",
   "execution_count": null,
   "id": "f16f9014",
   "metadata": {},
   "outputs": [],
   "source": [
    "# Visualize class distribution (Benign vs Malignant)\n",
    "import seaborn as sns\n",
    "import matplotlib.pyplot as plt\n",
    "\n",
    "# Set plot style\n",
    "sns.set(style=\"whitegrid\")\n",
    "\n",
    "# Plot class counts\n",
    "plt.figure(figsize=(6, 4))\n",
    "sns.countplot(x=\"Diagnosis\", data=df, palette=\"pastel\")\n",
    "plt.title(\"Class Distribution (Benign vs Malignant)\")\n",
    "plt.xlabel(\"Diagnosis\")\n",
    "plt.ylabel(\"Count\")\n",
    "plt.show()\n"
   ]
  },
  {
   "cell_type": "code",
   "execution_count": null,
   "id": "9ee3e51d",
   "metadata": {},
   "outputs": [],
   "source": [
    "# Calculate and display class proportions\n",
    "class_counts = df[\"Diagnosis\"].value_counts()\n",
    "class_percentages = df[\"Diagnosis\"].value_counts(normalize=True) * 100\n",
    "\n",
    "print(\"Class Counts:\\n\", class_counts)\n",
    "print(\"\\nClass Percentages:\\n\", class_percentages.round(2))\n"
   ]
  },
  {
   "cell_type": "markdown",
   "id": "02463ee4",
   "metadata": {},
   "source": [
    "Feature Distribution by Diagnosis"
   ]
  },
  {
   "cell_type": "code",
   "execution_count": null,
   "id": "2d6d9373",
   "metadata": {},
   "outputs": [],
   "source": [
    "import seaborn as sns\n",
    "import matplotlib.pyplot as plt\n",
    "\n",
    "# Define relevant features to inspect\n",
    "features_to_plot = [\n",
    "    \"Radius1\",       # radius_mean\n",
    "    \"Texture1\",      # texture_mean\n",
    "    \"Area1\",         # area_mean\n",
    "    \"Concavity1\",    # concavity_mean\n",
    "    \"Compactness1\"   # compactness_mean\n",
    "]\n",
    "\n",
    "# Set plot style\n",
    "sns.set(style=\"whitegrid\")\n",
    "\n",
    "# Plot each feature as a KDE by diagnosis\n",
    "for feature in features_to_plot:\n",
    "    plt.figure(figsize=(7, 4))\n",
    "    sns.kdeplot(data=df, x=feature, hue=\"Diagnosis\", fill=True, common_norm=False, palette=[\"#FF6F61\", \"#6BAED6\"])\n",
    "    plt.title(f\"Distribution of {feature} by Diagnosis\")\n",
    "    plt.xlabel(feature)\n",
    "    plt.ylabel(\"Density\")\n",
    "    plt.tight_layout()\n",
    "    plt.show()\n"
   ]
  },
  {
   "cell_type": "markdown",
   "id": "ccec0fbb",
   "metadata": {},
   "source": [
    "We examined the distribution of selected features (e.g., radius, texture, concavity) separated by diagnosis class (Malignant vs Benign). For malignant tumors, the feature values tend to have a wider spread and are generally shifted toward higher values compared to benign tumors. This indicates that malignant cells often exhibit more extreme morphological characteristics. The separation between classes is visually noticeable in several features, which could be useful for model discrimination.\n"
   ]
  },
  {
   "cell_type": "markdown",
   "id": "1fbc5976",
   "metadata": {},
   "source": [
    "Correlation Matrix"
   ]
  },
  {
   "cell_type": "code",
   "execution_count": null,
   "id": "cdb62d55",
   "metadata": {},
   "outputs": [],
   "source": [
    "# Correlation Matrix and heatmap\n",
    "\n",
    "import seaborn as sns\n",
    "import matplotlib.pyplot as plt\n",
    "\n",
    "# Calculate the correlation matrix \n",
    "correlation_matrix = df.corr(numeric_only=True)\n",
    "\n",
    "# size of the figure\n",
    "plt.figure(figsize=(18, 16))\n",
    "\n",
    "# Create the heatmap\n",
    "sns.heatmap(\n",
    "    correlation_matrix, \n",
    "    annot=False,        # change to True if you want to show values\n",
    "    cmap=\"coolwarm\", \n",
    "    linewidths=0.5,\n",
    "    cbar_kws={\"shrink\": 0.5}\n",
    ")\n",
    "\n",
    "plt.title(\"Correlation Matrix of Breast Cancer Features\", fontsize=16)\n",
    "plt.xticks(rotation=90)\n",
    "plt.yticks(rotation=0)\n",
    "plt.tight_layout()\n",
    "plt.show()\n"
   ]
  },
  {
   "cell_type": "markdown",
   "id": "ab0443f3",
   "metadata": {},
   "source": [
    "A full feature correlation matrix reveals strong linear relationships between several groups of variables. For example, `radius`, `perimeter`, and `area` (across all three measurements) show high positive correlations, suggesting potential multicollinearity. This is expected, as these features are geometrically related. Identifying such patterns helps in feature selection and dimensionality reduction if needed.\n"
   ]
  },
  {
   "cell_type": "markdown",
   "id": "69fb4c81",
   "metadata": {},
   "source": [
    "Features correlation with Diagnosis"
   ]
  },
  {
   "cell_type": "code",
   "execution_count": null,
   "id": "d97fa2d9",
   "metadata": {},
   "outputs": [],
   "source": [
    "# Import libraries\n",
    "import pandas as pd\n",
    "import matplotlib.pyplot as plt\n",
    "import seaborn as sns\n",
    "\n",
    "# Copy DataFrame and encode Diagnosis (Malignant=1, Benign=0)\n",
    "df_encoded = df.copy()\n",
    "df_encoded[\"Diagnosis\"] = df_encoded[\"Diagnosis\"].map({\"M\": 1, \"B\": 0})\n",
    "\n",
    "# Compute correlation matrix\n",
    "correlation_matrix = df_encoded.corr(numeric_only=True)\n",
    "\n",
    "# Get correlations with 'Diagnosis' and sort them\n",
    "corr_with_target = correlation_matrix[\"Diagnosis\"].drop(\"Diagnosis\").sort_values(ascending=False)\n",
    "\n",
    "# Plot top and bottom correlations\n",
    "plt.figure(figsize=(10, 6))\n",
    "sns.barplot(x=corr_with_target.values, y=corr_with_target.index, palette=\"coolwarm\")\n",
    "plt.title(\"Feature Correlation with Diagnosis (Malignant = 1, Benign = 0)\")\n",
    "plt.xlabel(\"Correlation Coefficient\")\n",
    "plt.ylabel(\"Features\")\n",
    "plt.tight_layout()\n",
    "plt.show()\n"
   ]
  },
  {
   "cell_type": "markdown",
   "id": "90bc2be7",
   "metadata": {},
   "source": [
    "The correlation of individual features with the diagnosis target (Malignant = 1, Benign = 0) highlights key predictors. Features like `concave points`, `perimeter`, and `radius` (especially their \"worst\" values) exhibit strong positive correlations (r > 0.7) with malignancy. Conversely, features like `smoothness` and `fractal dimension` show weak or negative correlations. These insights support prioritizing highly correlated features in early model iterations or feature importance analysis.\n"
   ]
  },
  {
   "cell_type": "markdown",
   "id": "006c0f9c",
   "metadata": {},
   "source": []
  }
 ],
 "metadata": {
  "kernelspec": {
   "display_name": ".venv",
   "language": "python",
   "name": "python3"
  },
  "language_info": {
   "codemirror_mode": {
    "name": "ipython",
    "version": 3
   },
   "file_extension": ".py",
   "mimetype": "text/x-python",
   "name": "python",
   "nbconvert_exporter": "python",
   "pygments_lexer": "ipython3",
   "version": "3.11.9"
  }
 },
 "nbformat": 4,
 "nbformat_minor": 5
}
