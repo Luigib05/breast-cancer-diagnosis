{
 "cells": [
  {
   "cell_type": "markdown",
   "id": "4ace44a0",
   "metadata": {},
   "source": [
    "Importation of bookstores"
   ]
  },
  {
   "cell_type": "code",
   "execution_count": null,
   "id": "189d10e0",
   "metadata": {},
   "outputs": [],
   "source": [
    "# Data handling\n",
    "import pandas as pd\n",
    "import numpy as np\n",
    "\n",
    "# Visualization\n",
    "import matplotlib.pyplot as plt\n",
    "import seaborn as sns\n",
    "\n",
    "# Display settings\n",
    "sns.set_theme(style=\"whitegrid\")\n",
    "plt.rcParams[\"figure.figsize\"] = (10, 6)\n"
   ]
  },
  {
   "cell_type": "markdown",
   "id": "7b5889c6",
   "metadata": {},
   "source": [
    "Loading the dataset"
   ]
  },
  {
   "cell_type": "code",
   "execution_count": null,
   "id": "f2204d10",
   "metadata": {},
   "outputs": [],
   "source": [
    "# Import custom loader\n",
    "from src.load_data import load_breast_cancer_data\n",
    "\n",
    "# Load data\n",
    "df = load_breast_cancer_data()\n",
    "\n",
    "# First 5 rows\n",
    "df.head()\n"
   ]
  },
  {
   "cell_type": "markdown",
   "id": "6001c03e",
   "metadata": {},
   "source": [
    "Dimensions and data types"
   ]
  },
  {
   "cell_type": "code",
   "execution_count": null,
   "id": "629b351f",
   "metadata": {},
   "outputs": [],
   "source": [
    "# Shape\n",
    "print(f\"Dataset shape: {df.shape}\")\n",
    "\n",
    "# Data types and non-null values\n",
    "df.info()\n"
   ]
  },
  {
   "cell_type": "markdown",
   "id": "e01621e1",
   "metadata": {},
   "source": [
    "Descriptive statistics"
   ]
  },
  {
   "cell_type": "code",
   "execution_count": null,
   "id": "0972ae56",
   "metadata": {},
   "outputs": [],
   "source": [
    "# Descriptive statistics for numeric columns\n",
    "df.describe()\n"
   ]
  },
  {
   "cell_type": "markdown",
   "id": "78855ffb",
   "metadata": {},
   "source": [
    "Check for missing values"
   ]
  },
  {
   "cell_type": "code",
   "execution_count": null,
   "id": "a1ff9e48",
   "metadata": {},
   "outputs": [],
   "source": [
    "# Check for missing values\n",
    "df.isnull().sum()\n"
   ]
  }
 ],
 "metadata": {
  "kernelspec": {
   "display_name": ".venv",
   "language": "python",
   "name": "python3"
  },
  "language_info": {
   "name": "python",
   "version": "3.11.9"
  }
 },
 "nbformat": 4,
 "nbformat_minor": 5
}
